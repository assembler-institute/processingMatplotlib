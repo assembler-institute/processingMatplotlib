{
 "cells": [
  {
   "cell_type": "markdown",
   "metadata": {},
   "source": [
    "# MATPLOTLIB\n",
    "\n",
    "**Matplotlib** is a library for creating statistical or animated static plots in Python. It allows us to customize practically any element of a data visualization.\n",
    "\n",
    "In **Matplotlib** all the graphical development will be done through the **Pyplot** interface.\n",
    "\n",
    "In **Pyplot** all the graphic representation is done sequentially, that is, a new function supposes an alteration in the current graph and so on.\n",
    "\n",
    "Like many python libraries, pyplot is commonly used under an alias **plt**, we'll start by importing the library."
   ]
  },
  {
   "cell_type": "code",
   "execution_count": null,
   "metadata": {},
   "outputs": [],
   "source": [
    "import matplotlib.pyplot as plt"
   ]
  },
  {
   "cell_type": "markdown",
   "metadata": {},
   "source": [
    "We will make a very simple graph to start, paint the elements of a list"
   ]
  },
  {
   "cell_type": "code",
   "execution_count": null,
   "metadata": {},
   "outputs": [],
   "source": [
    "my_list = [1, 5, 10, 15, 20, 25, 30]"
   ]
  },
  {
   "cell_type": "markdown",
   "metadata": {},
   "source": [
    "The first thing we will do to make a plot is to call the function <code>**plot**</code>"
   ]
  },
  {
   "cell_type": "code",
   "execution_count": null,
   "metadata": {},
   "outputs": [],
   "source": []
  },
  {
   "cell_type": "markdown",
   "metadata": {},
   "source": [
    "We see that we simply display each index value with its corresponding list value.\n",
    "\n",
    "We can add some style elements like labels to the *y* axis, and to the *x* axis. To do this, we add a new component with <code>**ylabel**</code> or <code>**xlabel**</code>"
   ]
  },
  {
   "cell_type": "code",
   "execution_count": null,
   "metadata": {},
   "outputs": [],
   "source": []
  },
  {
   "cell_type": "markdown",
   "metadata": {},
   "source": [
    "As we can see, nothing from the previous list appears, so that pyplot takes into account all the elements that we are adding to a graph and shows them correctly on the screen, we have to define where our graph ends with the function <code>**show**</code>"
   ]
  },
  {
   "cell_type": "code",
   "execution_count": null,
   "metadata": {},
   "outputs": [],
   "source": []
  },
  {
   "cell_type": "markdown",
   "metadata": {},
   "source": [
    "Now that we know how to print something basic like a list against its own index, we are going to make a modification and instead of showing the index on the x-axis we will show another list with different values."
   ]
  },
  {
   "cell_type": "code",
   "execution_count": null,
   "metadata": {},
   "outputs": [],
   "source": []
  },
  {
   "cell_type": "markdown",
   "metadata": {},
   "source": [
    "In view of this new graph, it is important to highlight something:\n",
    "* The horizontal abscissa axis **x** takes the value of the first parameter (in its absence it will be the index of the list)\n",
    "* The vertical abscissa axis **y** takes the value of the second parameter.\n",
    "\n",
    "On some occasions, we may need wider or smaller axes for our graphs, for this we can make a new list containing 4 values:\n",
    "* Start x axis\n",
    "* Axis end x\n",
    "* Axis start and\n",
    "* Axis end and\n",
    "\n",
    "We will pass these values ​​to the parameter <code>**axis**</code>"
   ]
  },
  {
   "cell_type": "code",
   "execution_count": null,
   "metadata": {},
   "outputs": [],
   "source": []
  },
  {
   "cell_type": "markdown",
   "metadata": {},
   "source": [
    "Finally, on our first graph, we can decide to change the color, this is done from the **plot** parameter, after the input arguments of the x and y axes, we can define the color through the <code>**color* parameter *</code>"
   ]
  },
  {
   "cell_type": "code",
   "execution_count": null,
   "metadata": {},
   "outputs": [],
   "source": []
  },
  {
   "cell_type": "markdown",
   "metadata": {},
   "source": [
    "We can find a list of colors that we can use in the following link: https://matplotlib.org/3.1.0/gallery/color/named_colors.html"
   ]
  },
  {
   "cell_type": "markdown",
   "metadata": {},
   "source": [
    "Another function of interest is to add a title to a graph, we do this from <code>**title**</code>"
   ]
  },
  {
   "cell_type": "code",
   "execution_count": null,
   "metadata": {},
   "outputs": [],
   "source": []
  },
  {
   "cell_type": "markdown",
   "metadata": {},
   "source": [
    "In these first examples we have seen how to play with the width of the axes and display two lists. However, it is common for different variables to be superimposed on the same graph, the process is the same, that is, we have to add elements with plot."
   ]
  },
  {
   "cell_type": "code",
   "execution_count": null,
   "metadata": {},
   "outputs": [],
   "source": []
  },
  {
   "cell_type": "markdown",
   "metadata": {},
   "source": [
    "When we add more than one variable to the graph, the color and width of the x and y axis are automatically defined. In these cases it is interesting to add a legend to our graph.\n",
    "\n",
    "To add a legend, we have to use the <code>**legend()**</code> function, but, in each plot element, we have to use the <code>**label**</code> parameter to add the text that will appear in the legend of our graph."
   ]
  },
  {
   "cell_type": "code",
   "execution_count": null,
   "metadata": {},
   "outputs": [],
   "source": []
  },
  {
   "cell_type": "markdown",
   "metadata": {},
   "source": [
    "### Question\n",
    "\n",
    "What happens if the three arrays of the previous graph did not have the same length?\n"
   ]
  },
  {
   "cell_type": "code",
   "execution_count": null,
   "metadata": {},
   "outputs": [],
   "source": []
  },
  {
   "cell_type": "markdown",
   "metadata": {},
   "source": [
    "Not only can we use lines as shapes to represent our graphs, but there are other types of elements that we can represent. A complete list of these elements can be consulted from the following link: https://matplotlib.org/3.1.1/api/markers_api.html"
   ]
  },
  {
   "cell_type": "code",
   "execution_count": null,
   "metadata": {},
   "outputs": [],
   "source": []
  },
  {
   "cell_type": "markdown",
   "metadata": {},
   "source": [
    "We show a clearer example."
   ]
  },
  {
   "cell_type": "code",
   "execution_count": null,
   "metadata": {},
   "outputs": [],
   "source": []
  },
  {
   "cell_type": "markdown",
   "metadata": {},
   "source": [
    "Through **Pyplot**, we can also add more than one visualization in the same graphic space, for this there is this important function <code>**subplot**</code>, it receives the following parameters:\n",
    "* Number of rows\n",
    "* Number of columns\n",
    "* Index (position)\n",
    "\n",
    "We will show an example of two graphs (so two rows, one column and even two graphs)"
   ]
  },
  {
   "cell_type": "code",
   "execution_count": null,
   "metadata": {},
   "outputs": [],
   "source": []
  },
  {
   "cell_type": "markdown",
   "metadata": {},
   "source": [
    "**Modify pyplot margins**"
   ]
  },
  {
   "cell_type": "code",
   "execution_count": null,
   "metadata": {},
   "outputs": [],
   "source": [
    "plt.rcParams['figure.figsize'] = [10, 5]"
   ]
  },
  {
   "cell_type": "markdown",
   "metadata": {},
   "source": [
    "Before we go over different types of charts, we'll show how to add text inside a visualization.\n",
    "\n",
    "The function <code>**text**</code> followed by the x and y position where the text will go, will allow us to add text inside a visualization. We will take the graph above as an example."
   ]
  },
  {
   "cell_type": "code",
   "execution_count": null,
   "metadata": {
    "scrolled": true
   },
   "outputs": [],
   "source": []
  },
  {
   "cell_type": "markdown",
   "metadata": {},
   "source": [
    "As we can see, we have to be careful with the position, we redistribute it"
   ]
  },
  {
   "cell_type": "code",
   "execution_count": null,
   "metadata": {},
   "outputs": [],
   "source": []
  },
  {
   "cell_type": "markdown",
   "metadata": {},
   "source": [
    "Now, we will show some types of graphs other than the line graph.\n",
    "\n",
    "## Histogram.\n",
    "\n",
    "To generate a histogram we use the `plt.hist()` function, as parameters we will pass the vector that we are going to represent and the parameter that determines the number of bars that will be represented in the histogram **bins**"
   ]
  },
  {
   "cell_type": "code",
   "execution_count": null,
   "metadata": {},
   "outputs": [],
   "source": []
  },
  {
   "cell_type": "markdown",
   "metadata": {},
   "source": [
    "## BAR CHART\n",
    "\n",
    "To generate a bar chart we will use the `plt.bar` function which will receive two parameters, the vector to represent and its height. This type of graph is advisable to use when we have a categorical variable and a numerical one."
   ]
  },
  {
   "cell_type": "code",
   "execution_count": null,
   "metadata": {},
   "outputs": [],
   "source": []
  },
  {
   "cell_type": "markdown",
   "metadata": {},
   "source": [
    "Using another example, we are going to generate a series of dates, 12 days and 2 arrays to simulate the air quality indices of two cities. In this case we will see how the **plot** function works from a dataframe, which internally also incorporates pyplot"
   ]
  },
  {
   "cell_type": "code",
   "execution_count": null,
   "metadata": {},
   "outputs": [],
   "source": []
  },
  {
   "cell_type": "markdown",
   "metadata": {},
   "source": [
    "Two bar charts can also be superimposed"
   ]
  },
  {
   "cell_type": "code",
   "execution_count": null,
   "metadata": {},
   "outputs": [],
   "source": []
  },
  {
   "cell_type": "markdown",
   "metadata": {},
   "source": [
    "## Pie Chart"
   ]
  },
  {
   "cell_type": "code",
   "execution_count": null,
   "metadata": {},
   "outputs": [],
   "source": []
  },
  {
   "cell_type": "markdown",
   "metadata": {},
   "source": [
    "## Scatter plot"
   ]
  },
  {
   "cell_type": "code",
   "execution_count": null,
   "metadata": {},
   "outputs": [],
   "source": []
  },
  {
   "cell_type": "markdown",
   "metadata": {},
   "source": [
    "## More advanced Plots"
   ]
  },
  {
   "cell_type": "code",
   "execution_count": null,
   "metadata": {},
   "outputs": [],
   "source": []
  },
  {
   "cell_type": "markdown",
   "metadata": {},
   "source": [
    "Generate in the same chart two lines of column a and column b"
   ]
  },
  {
   "cell_type": "code",
   "execution_count": null,
   "metadata": {},
   "outputs": [],
   "source": []
  },
  {
   "cell_type": "markdown",
   "metadata": {},
   "source": [
    "Now, represent all columns with different formats"
   ]
  },
  {
   "cell_type": "code",
   "execution_count": null,
   "metadata": {},
   "outputs": [],
   "source": []
  },
  {
   "cell_type": "markdown",
   "metadata": {},
   "source": [
    "Using subplots functions now, generate the same line charts but in subplot mode, accesing to their index"
   ]
  },
  {
   "cell_type": "code",
   "execution_count": null,
   "metadata": {},
   "outputs": [],
   "source": []
  },
  {
   "cell_type": "markdown",
   "metadata": {},
   "source": [
    "Adding data labels to barcharts"
   ]
  },
  {
   "cell_type": "code",
   "execution_count": null,
   "metadata": {},
   "outputs": [],
   "source": []
  }
 ],
 "metadata": {
  "kernelspec": {
   "display_name": "Python 3",
   "language": "python",
   "name": "python3"
  },
  "language_info": {
   "codemirror_mode": {
    "name": "ipython",
    "version": 3
   },
   "file_extension": ".py",
   "mimetype": "text/x-python",
   "name": "python",
   "nbconvert_exporter": "python",
   "pygments_lexer": "ipython3",
   "version": "3.7.6"
  }
 },
 "nbformat": 4,
 "nbformat_minor": 2
}
